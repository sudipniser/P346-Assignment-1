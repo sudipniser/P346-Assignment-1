{
 "cells": [
  {
   "cell_type": "code",
   "execution_count": 17,
   "source": [
    "#calculating the sum of first N odd numbers\r\n",
    "def odd_sum(N):\r\n",
    "    try:\r\n",
    "        n=0\r\n",
    "        m=1\r\n",
    "        for _ in range(N):\r\n",
    "            n=n+m\r\n",
    "            m=m+2\r\n",
    "        return(n)\r\n",
    "    except TypeError:\r\n",
    "        print(\"N must be an integer\")"
   ],
   "outputs": [],
   "metadata": {}
  },
  {
   "cell_type": "code",
   "execution_count": 18,
   "source": [
    "odd_sum(-2)"
   ],
   "outputs": [
    {
     "output_type": "execute_result",
     "data": {
      "text/plain": [
       "0"
      ]
     },
     "metadata": {},
     "execution_count": 18
    }
   ],
   "metadata": {}
  },
  {
   "cell_type": "code",
   "execution_count": 11,
   "source": [
    "#calculating AP sum\r\n",
    "def AP_sum(start,comm_diff,N):\r\n",
    "    try:\r\n",
    "        m=start\r\n",
    "        n=0\r\n",
    "        for _ in range(N):\r\n",
    "            n=n+m\r\n",
    "            m=m+comm_diff\r\n",
    "        return(n)\r\n",
    "    except TypeError:\r\n",
    "        print(\"N must be an integer\")"
   ],
   "outputs": [],
   "metadata": {}
  },
  {
   "cell_type": "code",
   "execution_count": 19,
   "source": [
    "AP_sum(-1,-2,-10)"
   ],
   "outputs": [
    {
     "output_type": "execute_result",
     "data": {
      "text/plain": [
       "0"
      ]
     },
     "metadata": {},
     "execution_count": 19
    }
   ],
   "metadata": {}
  },
  {
   "cell_type": "code",
   "execution_count": 36,
   "source": [
    "#Calculating GP sum\r\n",
    "def GP_sum(start,comm_ratio,N):\r\n",
    "    m=start\r\n",
    "    n=0\r\n",
    "    for _ in range(N):\r\n",
    "        n=n+m\r\n",
    "        m=m*comm_ratio\r\n",
    "    return(n)"
   ],
   "outputs": [],
   "metadata": {}
  },
  {
   "cell_type": "code",
   "execution_count": 37,
   "source": [
    "GP_sum(1,2,1)"
   ],
   "outputs": [
    {
     "output_type": "execute_result",
     "data": {
      "text/plain": [
       "1"
      ]
     },
     "metadata": {},
     "execution_count": 37
    }
   ],
   "metadata": {}
  },
  {
   "cell_type": "code",
   "execution_count": 38,
   "source": [
    "#calculating HP sum\r\n",
    "def HP_sum(start,comm_diff,N):\r\n",
    "    m=start\r\n",
    "    n=0\r\n",
    "    for _ in range(N):\r\n",
    "        n=n+m\r\n",
    "        m=1/(1/m+comm_diff)\r\n",
    "    return(n)"
   ],
   "outputs": [],
   "metadata": {}
  },
  {
   "cell_type": "code",
   "execution_count": 39,
   "source": [
    "HP_sum(1/9,4,100000)"
   ],
   "outputs": [
    {
     "output_type": "execute_result",
     "data": {
      "text/plain": [
       "2.735099124549378"
      ]
     },
     "metadata": {},
     "execution_count": 39
    }
   ],
   "metadata": {}
  },
  {
   "cell_type": "code",
   "execution_count": 40,
   "source": [
    "def factorial(N):\r\n",
    "    if N==0:\r\n",
    "        return(1)\r\n",
    "    elif N<0:\r\n",
    "        print(\"Not applicable\")\r\n",
    "    else:\r\n",
    "        return(N*factorial(N-1))"
   ],
   "outputs": [],
   "metadata": {}
  },
  {
   "cell_type": "code",
   "execution_count": 41,
   "source": [
    "factorial(9)"
   ],
   "outputs": [
    {
     "output_type": "execute_result",
     "data": {
      "text/plain": [
       "362880"
      ]
     },
     "metadata": {},
     "execution_count": 41
    }
   ],
   "metadata": {}
  },
  {
   "cell_type": "code",
   "execution_count": 42,
   "source": [
    "import matplotlib.pyplot as plt\r\n",
    "import numpy as np"
   ],
   "outputs": [],
   "metadata": {}
  },
  {
   "cell_type": "code",
   "execution_count": 43,
   "source": [
    "#sine of x series taking n terms\r\n",
    "def sine(x,n):\r\n",
    "    val=0\r\n",
    "    #while ((-1)**n*x**(2*n+1)/(factorial(2*n+1)) > 0.0001 or (-1)**n*x**(2*n+1)/(factorial(2*n+1)) < -0.0001):\r\n",
    "    for i in range(n+1):\r\n",
    "        val=val+(-1)**i*x**(2*i+1)/(factorial(2*i+1))\r\n",
    "    return(val)"
   ],
   "outputs": [],
   "metadata": {}
  },
  {
   "cell_type": "code",
   "execution_count": 52,
   "source": [
    "x=[i for i in range(1,100)]\r\n",
    "y=[abs(sine(100,j)-np.sin(100)) for j in range(1,100)]\r\n",
    "plt.plot(x,y,'-o')\r\n"
   ],
   "outputs": [
    {
     "output_type": "execute_result",
     "data": {
      "text/plain": [
       "[<matplotlib.lines.Line2D at 0x2f0e8b52e50>]"
      ]
     },
     "metadata": {},
     "execution_count": 52
    },
    {
     "output_type": "display_data",
     "data": {
      "text/plain": [
       "<Figure size 432x288 with 1 Axes>"
      ],
      "image/svg+xml": "<?xml version=\"1.0\" encoding=\"utf-8\" standalone=\"no\"?>\r\n<!DOCTYPE svg PUBLIC \"-//W3C//DTD SVG 1.1//EN\"\r\n  \"http://www.w3.org/Graphics/SVG/1.1/DTD/svg11.dtd\">\r\n<!-- Created with matplotlib (https://matplotlib.org/) -->\r\n<svg height=\"259.116562pt\" version=\"1.1\" viewBox=\"0 0 362.5625 259.116562\" width=\"362.5625pt\" xmlns=\"http://www.w3.org/2000/svg\" xmlns:xlink=\"http://www.w3.org/1999/xlink\">\r\n <defs>\r\n  <style type=\"text/css\">\r\n*{stroke-linecap:butt;stroke-linejoin:round;}\r\n  </style>\r\n </defs>\r\n <g id=\"figure_1\">\r\n  <g id=\"patch_1\">\r\n   <path d=\"M 0 259.116562 \r\nL 362.5625 259.116562 \r\nL 362.5625 0 \r\nL 0 0 \r\nz\r\n\" style=\"fill:none;\"/>\r\n  </g>\r\n  <g id=\"axes_1\">\r\n   <g id=\"patch_2\">\r\n    <path d=\"M 20.5625 235.238437 \r\nL 355.3625 235.238437 \r\nL 355.3625 17.798437 \r\nL 20.5625 17.798437 \r\nz\r\n\" style=\"fill:#ffffff;\"/>\r\n   </g>\r\n   <g id=\"matplotlib.axis_1\">\r\n    <g id=\"xtick_1\">\r\n     <g id=\"line2d_1\">\r\n      <defs>\r\n       <path d=\"M 0 0 \r\nL 0 3.5 \r\n\" id=\"m3ea7faeab6\" style=\"stroke:#000000;stroke-width:0.8;\"/>\r\n      </defs>\r\n      <g>\r\n       <use style=\"stroke:#000000;stroke-width:0.8;\" x=\"32.67493\" xlink:href=\"#m3ea7faeab6\" y=\"235.238437\"/>\r\n      </g>\r\n     </g>\r\n     <g id=\"text_1\">\r\n      <!-- 0 -->\r\n      <defs>\r\n       <path d=\"M 31.78125 66.40625 \r\nQ 24.171875 66.40625 20.328125 58.90625 \r\nQ 16.5 51.421875 16.5 36.375 \r\nQ 16.5 21.390625 20.328125 13.890625 \r\nQ 24.171875 6.390625 31.78125 6.390625 \r\nQ 39.453125 6.390625 43.28125 13.890625 \r\nQ 47.125 21.390625 47.125 36.375 \r\nQ 47.125 51.421875 43.28125 58.90625 \r\nQ 39.453125 66.40625 31.78125 66.40625 \r\nz\r\nM 31.78125 74.21875 \r\nQ 44.046875 74.21875 50.515625 64.515625 \r\nQ 56.984375 54.828125 56.984375 36.375 \r\nQ 56.984375 17.96875 50.515625 8.265625 \r\nQ 44.046875 -1.421875 31.78125 -1.421875 \r\nQ 19.53125 -1.421875 13.0625 8.265625 \r\nQ 6.59375 17.96875 6.59375 36.375 \r\nQ 6.59375 54.828125 13.0625 64.515625 \r\nQ 19.53125 74.21875 31.78125 74.21875 \r\nz\r\n\" id=\"DejaVuSans-48\"/>\r\n      </defs>\r\n      <g transform=\"translate(29.49368 249.836875)scale(0.1 -0.1)\">\r\n       <use xlink:href=\"#DejaVuSans-48\"/>\r\n      </g>\r\n     </g>\r\n    </g>\r\n    <g id=\"xtick_2\">\r\n     <g id=\"line2d_2\">\r\n      <g>\r\n       <use style=\"stroke:#000000;stroke-width:0.8;\" x=\"94.789958\" xlink:href=\"#m3ea7faeab6\" y=\"235.238437\"/>\r\n      </g>\r\n     </g>\r\n     <g id=\"text_2\">\r\n      <!-- 20 -->\r\n      <defs>\r\n       <path d=\"M 19.1875 8.296875 \r\nL 53.609375 8.296875 \r\nL 53.609375 0 \r\nL 7.328125 0 \r\nL 7.328125 8.296875 \r\nQ 12.9375 14.109375 22.625 23.890625 \r\nQ 32.328125 33.6875 34.8125 36.53125 \r\nQ 39.546875 41.84375 41.421875 45.53125 \r\nQ 43.3125 49.21875 43.3125 52.78125 \r\nQ 43.3125 58.59375 39.234375 62.25 \r\nQ 35.15625 65.921875 28.609375 65.921875 \r\nQ 23.96875 65.921875 18.8125 64.3125 \r\nQ 13.671875 62.703125 7.8125 59.421875 \r\nL 7.8125 69.390625 \r\nQ 13.765625 71.78125 18.9375 73 \r\nQ 24.125 74.21875 28.421875 74.21875 \r\nQ 39.75 74.21875 46.484375 68.546875 \r\nQ 53.21875 62.890625 53.21875 53.421875 \r\nQ 53.21875 48.921875 51.53125 44.890625 \r\nQ 49.859375 40.875 45.40625 35.40625 \r\nQ 44.1875 33.984375 37.640625 27.21875 \r\nQ 31.109375 20.453125 19.1875 8.296875 \r\nz\r\n\" id=\"DejaVuSans-50\"/>\r\n      </defs>\r\n      <g transform=\"translate(88.427458 249.836875)scale(0.1 -0.1)\">\r\n       <use xlink:href=\"#DejaVuSans-50\"/>\r\n       <use x=\"63.623047\" xlink:href=\"#DejaVuSans-48\"/>\r\n      </g>\r\n     </g>\r\n    </g>\r\n    <g id=\"xtick_3\">\r\n     <g id=\"line2d_3\">\r\n      <g>\r\n       <use style=\"stroke:#000000;stroke-width:0.8;\" x=\"156.904986\" xlink:href=\"#m3ea7faeab6\" y=\"235.238437\"/>\r\n      </g>\r\n     </g>\r\n     <g id=\"text_3\">\r\n      <!-- 40 -->\r\n      <defs>\r\n       <path d=\"M 37.796875 64.3125 \r\nL 12.890625 25.390625 \r\nL 37.796875 25.390625 \r\nz\r\nM 35.203125 72.90625 \r\nL 47.609375 72.90625 \r\nL 47.609375 25.390625 \r\nL 58.015625 25.390625 \r\nL 58.015625 17.1875 \r\nL 47.609375 17.1875 \r\nL 47.609375 0 \r\nL 37.796875 0 \r\nL 37.796875 17.1875 \r\nL 4.890625 17.1875 \r\nL 4.890625 26.703125 \r\nz\r\n\" id=\"DejaVuSans-52\"/>\r\n      </defs>\r\n      <g transform=\"translate(150.542486 249.836875)scale(0.1 -0.1)\">\r\n       <use xlink:href=\"#DejaVuSans-52\"/>\r\n       <use x=\"63.623047\" xlink:href=\"#DejaVuSans-48\"/>\r\n      </g>\r\n     </g>\r\n    </g>\r\n    <g id=\"xtick_4\">\r\n     <g id=\"line2d_4\">\r\n      <g>\r\n       <use style=\"stroke:#000000;stroke-width:0.8;\" x=\"219.020014\" xlink:href=\"#m3ea7faeab6\" y=\"235.238437\"/>\r\n      </g>\r\n     </g>\r\n     <g id=\"text_4\">\r\n      <!-- 60 -->\r\n      <defs>\r\n       <path d=\"M 33.015625 40.375 \r\nQ 26.375 40.375 22.484375 35.828125 \r\nQ 18.609375 31.296875 18.609375 23.390625 \r\nQ 18.609375 15.53125 22.484375 10.953125 \r\nQ 26.375 6.390625 33.015625 6.390625 \r\nQ 39.65625 6.390625 43.53125 10.953125 \r\nQ 47.40625 15.53125 47.40625 23.390625 \r\nQ 47.40625 31.296875 43.53125 35.828125 \r\nQ 39.65625 40.375 33.015625 40.375 \r\nz\r\nM 52.59375 71.296875 \r\nL 52.59375 62.3125 \r\nQ 48.875 64.0625 45.09375 64.984375 \r\nQ 41.3125 65.921875 37.59375 65.921875 \r\nQ 27.828125 65.921875 22.671875 59.328125 \r\nQ 17.53125 52.734375 16.796875 39.40625 \r\nQ 19.671875 43.65625 24.015625 45.921875 \r\nQ 28.375 48.1875 33.59375 48.1875 \r\nQ 44.578125 48.1875 50.953125 41.515625 \r\nQ 57.328125 34.859375 57.328125 23.390625 \r\nQ 57.328125 12.15625 50.6875 5.359375 \r\nQ 44.046875 -1.421875 33.015625 -1.421875 \r\nQ 20.359375 -1.421875 13.671875 8.265625 \r\nQ 6.984375 17.96875 6.984375 36.375 \r\nQ 6.984375 53.65625 15.1875 63.9375 \r\nQ 23.390625 74.21875 37.203125 74.21875 \r\nQ 40.921875 74.21875 44.703125 73.484375 \r\nQ 48.484375 72.75 52.59375 71.296875 \r\nz\r\n\" id=\"DejaVuSans-54\"/>\r\n      </defs>\r\n      <g transform=\"translate(212.657514 249.836875)scale(0.1 -0.1)\">\r\n       <use xlink:href=\"#DejaVuSans-54\"/>\r\n       <use x=\"63.623047\" xlink:href=\"#DejaVuSans-48\"/>\r\n      </g>\r\n     </g>\r\n    </g>\r\n    <g id=\"xtick_5\">\r\n     <g id=\"line2d_5\">\r\n      <g>\r\n       <use style=\"stroke:#000000;stroke-width:0.8;\" x=\"281.135042\" xlink:href=\"#m3ea7faeab6\" y=\"235.238437\"/>\r\n      </g>\r\n     </g>\r\n     <g id=\"text_5\">\r\n      <!-- 80 -->\r\n      <defs>\r\n       <path d=\"M 31.78125 34.625 \r\nQ 24.75 34.625 20.71875 30.859375 \r\nQ 16.703125 27.09375 16.703125 20.515625 \r\nQ 16.703125 13.921875 20.71875 10.15625 \r\nQ 24.75 6.390625 31.78125 6.390625 \r\nQ 38.8125 6.390625 42.859375 10.171875 \r\nQ 46.921875 13.96875 46.921875 20.515625 \r\nQ 46.921875 27.09375 42.890625 30.859375 \r\nQ 38.875 34.625 31.78125 34.625 \r\nz\r\nM 21.921875 38.8125 \r\nQ 15.578125 40.375 12.03125 44.71875 \r\nQ 8.5 49.078125 8.5 55.328125 \r\nQ 8.5 64.0625 14.71875 69.140625 \r\nQ 20.953125 74.21875 31.78125 74.21875 \r\nQ 42.671875 74.21875 48.875 69.140625 \r\nQ 55.078125 64.0625 55.078125 55.328125 \r\nQ 55.078125 49.078125 51.53125 44.71875 \r\nQ 48 40.375 41.703125 38.8125 \r\nQ 48.828125 37.15625 52.796875 32.3125 \r\nQ 56.78125 27.484375 56.78125 20.515625 \r\nQ 56.78125 9.90625 50.3125 4.234375 \r\nQ 43.84375 -1.421875 31.78125 -1.421875 \r\nQ 19.734375 -1.421875 13.25 4.234375 \r\nQ 6.78125 9.90625 6.78125 20.515625 \r\nQ 6.78125 27.484375 10.78125 32.3125 \r\nQ 14.796875 37.15625 21.921875 38.8125 \r\nz\r\nM 18.3125 54.390625 \r\nQ 18.3125 48.734375 21.84375 45.5625 \r\nQ 25.390625 42.390625 31.78125 42.390625 \r\nQ 38.140625 42.390625 41.71875 45.5625 \r\nQ 45.3125 48.734375 45.3125 54.390625 \r\nQ 45.3125 60.0625 41.71875 63.234375 \r\nQ 38.140625 66.40625 31.78125 66.40625 \r\nQ 25.390625 66.40625 21.84375 63.234375 \r\nQ 18.3125 60.0625 18.3125 54.390625 \r\nz\r\n\" id=\"DejaVuSans-56\"/>\r\n      </defs>\r\n      <g transform=\"translate(274.772542 249.836875)scale(0.1 -0.1)\">\r\n       <use xlink:href=\"#DejaVuSans-56\"/>\r\n       <use x=\"63.623047\" xlink:href=\"#DejaVuSans-48\"/>\r\n      </g>\r\n     </g>\r\n    </g>\r\n    <g id=\"xtick_6\">\r\n     <g id=\"line2d_6\">\r\n      <g>\r\n       <use style=\"stroke:#000000;stroke-width:0.8;\" x=\"343.25007\" xlink:href=\"#m3ea7faeab6\" y=\"235.238437\"/>\r\n      </g>\r\n     </g>\r\n     <g id=\"text_6\">\r\n      <!-- 100 -->\r\n      <defs>\r\n       <path d=\"M 12.40625 8.296875 \r\nL 28.515625 8.296875 \r\nL 28.515625 63.921875 \r\nL 10.984375 60.40625 \r\nL 10.984375 69.390625 \r\nL 28.421875 72.90625 \r\nL 38.28125 72.90625 \r\nL 38.28125 8.296875 \r\nL 54.390625 8.296875 \r\nL 54.390625 0 \r\nL 12.40625 0 \r\nz\r\n\" id=\"DejaVuSans-49\"/>\r\n      </defs>\r\n      <g transform=\"translate(333.70632 249.836875)scale(0.1 -0.1)\">\r\n       <use xlink:href=\"#DejaVuSans-49\"/>\r\n       <use x=\"63.623047\" xlink:href=\"#DejaVuSans-48\"/>\r\n       <use x=\"127.246094\" xlink:href=\"#DejaVuSans-48\"/>\r\n      </g>\r\n     </g>\r\n    </g>\r\n   </g>\r\n   <g id=\"matplotlib.axis_2\">\r\n    <g id=\"ytick_1\">\r\n     <g id=\"line2d_7\">\r\n      <defs>\r\n       <path d=\"M 0 0 \r\nL -3.5 0 \r\n\" id=\"m3af3294e7e\" style=\"stroke:#000000;stroke-width:0.8;\"/>\r\n      </defs>\r\n      <g>\r\n       <use style=\"stroke:#000000;stroke-width:0.8;\" x=\"20.5625\" xlink:href=\"#m3af3294e7e\" y=\"225.354801\"/>\r\n      </g>\r\n     </g>\r\n     <g id=\"text_7\">\r\n      <!-- 0 -->\r\n      <g transform=\"translate(7.2 229.15402)scale(0.1 -0.1)\">\r\n       <use xlink:href=\"#DejaVuSans-48\"/>\r\n      </g>\r\n     </g>\r\n    </g>\r\n    <g id=\"ytick_2\">\r\n     <g id=\"line2d_8\">\r\n      <g>\r\n       <use style=\"stroke:#000000;stroke-width:0.8;\" x=\"20.5625\" xlink:href=\"#m3af3294e7e\" y=\"188.643167\"/>\r\n      </g>\r\n     </g>\r\n     <g id=\"text_8\">\r\n      <!-- 1 -->\r\n      <g transform=\"translate(7.2 192.442386)scale(0.1 -0.1)\">\r\n       <use xlink:href=\"#DejaVuSans-49\"/>\r\n      </g>\r\n     </g>\r\n    </g>\r\n    <g id=\"ytick_3\">\r\n     <g id=\"line2d_9\">\r\n      <g>\r\n       <use style=\"stroke:#000000;stroke-width:0.8;\" x=\"20.5625\" xlink:href=\"#m3af3294e7e\" y=\"151.931533\"/>\r\n      </g>\r\n     </g>\r\n     <g id=\"text_9\">\r\n      <!-- 2 -->\r\n      <g transform=\"translate(7.2 155.730751)scale(0.1 -0.1)\">\r\n       <use xlink:href=\"#DejaVuSans-50\"/>\r\n      </g>\r\n     </g>\r\n    </g>\r\n    <g id=\"ytick_4\">\r\n     <g id=\"line2d_10\">\r\n      <g>\r\n       <use style=\"stroke:#000000;stroke-width:0.8;\" x=\"20.5625\" xlink:href=\"#m3af3294e7e\" y=\"115.219899\"/>\r\n      </g>\r\n     </g>\r\n     <g id=\"text_10\">\r\n      <!-- 3 -->\r\n      <defs>\r\n       <path d=\"M 40.578125 39.3125 \r\nQ 47.65625 37.796875 51.625 33 \r\nQ 55.609375 28.21875 55.609375 21.1875 \r\nQ 55.609375 10.40625 48.1875 4.484375 \r\nQ 40.765625 -1.421875 27.09375 -1.421875 \r\nQ 22.515625 -1.421875 17.65625 -0.515625 \r\nQ 12.796875 0.390625 7.625 2.203125 \r\nL 7.625 11.71875 \r\nQ 11.71875 9.328125 16.59375 8.109375 \r\nQ 21.484375 6.890625 26.8125 6.890625 \r\nQ 36.078125 6.890625 40.9375 10.546875 \r\nQ 45.796875 14.203125 45.796875 21.1875 \r\nQ 45.796875 27.640625 41.28125 31.265625 \r\nQ 36.765625 34.90625 28.71875 34.90625 \r\nL 20.21875 34.90625 \r\nL 20.21875 43.015625 \r\nL 29.109375 43.015625 \r\nQ 36.375 43.015625 40.234375 45.921875 \r\nQ 44.09375 48.828125 44.09375 54.296875 \r\nQ 44.09375 59.90625 40.109375 62.90625 \r\nQ 36.140625 65.921875 28.71875 65.921875 \r\nQ 24.65625 65.921875 20.015625 65.03125 \r\nQ 15.375 64.15625 9.8125 62.3125 \r\nL 9.8125 71.09375 \r\nQ 15.4375 72.65625 20.34375 73.4375 \r\nQ 25.25 74.21875 29.59375 74.21875 \r\nQ 40.828125 74.21875 47.359375 69.109375 \r\nQ 53.90625 64.015625 53.90625 55.328125 \r\nQ 53.90625 49.265625 50.4375 45.09375 \r\nQ 46.96875 40.921875 40.578125 39.3125 \r\nz\r\n\" id=\"DejaVuSans-51\"/>\r\n      </defs>\r\n      <g transform=\"translate(7.2 119.019117)scale(0.1 -0.1)\">\r\n       <use xlink:href=\"#DejaVuSans-51\"/>\r\n      </g>\r\n     </g>\r\n    </g>\r\n    <g id=\"ytick_5\">\r\n     <g id=\"line2d_11\">\r\n      <g>\r\n       <use style=\"stroke:#000000;stroke-width:0.8;\" x=\"20.5625\" xlink:href=\"#m3af3294e7e\" y=\"78.508264\"/>\r\n      </g>\r\n     </g>\r\n     <g id=\"text_11\">\r\n      <!-- 4 -->\r\n      <g transform=\"translate(7.2 82.307483)scale(0.1 -0.1)\">\r\n       <use xlink:href=\"#DejaVuSans-52\"/>\r\n      </g>\r\n     </g>\r\n    </g>\r\n    <g id=\"ytick_6\">\r\n     <g id=\"line2d_12\">\r\n      <g>\r\n       <use style=\"stroke:#000000;stroke-width:0.8;\" x=\"20.5625\" xlink:href=\"#m3af3294e7e\" y=\"41.79663\"/>\r\n      </g>\r\n     </g>\r\n     <g id=\"text_12\">\r\n      <!-- 5 -->\r\n      <defs>\r\n       <path d=\"M 10.796875 72.90625 \r\nL 49.515625 72.90625 \r\nL 49.515625 64.59375 \r\nL 19.828125 64.59375 \r\nL 19.828125 46.734375 \r\nQ 21.96875 47.46875 24.109375 47.828125 \r\nQ 26.265625 48.1875 28.421875 48.1875 \r\nQ 40.625 48.1875 47.75 41.5 \r\nQ 54.890625 34.8125 54.890625 23.390625 \r\nQ 54.890625 11.625 47.5625 5.09375 \r\nQ 40.234375 -1.421875 26.90625 -1.421875 \r\nQ 22.3125 -1.421875 17.546875 -0.640625 \r\nQ 12.796875 0.140625 7.71875 1.703125 \r\nL 7.71875 11.625 \r\nQ 12.109375 9.234375 16.796875 8.0625 \r\nQ 21.484375 6.890625 26.703125 6.890625 \r\nQ 35.15625 6.890625 40.078125 11.328125 \r\nQ 45.015625 15.765625 45.015625 23.390625 \r\nQ 45.015625 31 40.078125 35.4375 \r\nQ 35.15625 39.890625 26.703125 39.890625 \r\nQ 22.75 39.890625 18.8125 39.015625 \r\nQ 14.890625 38.140625 10.796875 36.28125 \r\nz\r\n\" id=\"DejaVuSans-53\"/>\r\n      </defs>\r\n      <g transform=\"translate(7.2 45.595849)scale(0.1 -0.1)\">\r\n       <use xlink:href=\"#DejaVuSans-53\"/>\r\n      </g>\r\n     </g>\r\n    </g>\r\n    <g id=\"text_13\">\r\n     <!-- 1e41 -->\r\n     <defs>\r\n      <path d=\"M 56.203125 29.59375 \r\nL 56.203125 25.203125 \r\nL 14.890625 25.203125 \r\nQ 15.484375 15.921875 20.484375 11.0625 \r\nQ 25.484375 6.203125 34.421875 6.203125 \r\nQ 39.59375 6.203125 44.453125 7.46875 \r\nQ 49.3125 8.734375 54.109375 11.28125 \r\nL 54.109375 2.78125 \r\nQ 49.265625 0.734375 44.1875 -0.34375 \r\nQ 39.109375 -1.421875 33.890625 -1.421875 \r\nQ 20.796875 -1.421875 13.15625 6.1875 \r\nQ 5.515625 13.8125 5.515625 26.8125 \r\nQ 5.515625 40.234375 12.765625 48.109375 \r\nQ 20.015625 56 32.328125 56 \r\nQ 43.359375 56 49.78125 48.890625 \r\nQ 56.203125 41.796875 56.203125 29.59375 \r\nz\r\nM 47.21875 32.234375 \r\nQ 47.125 39.59375 43.09375 43.984375 \r\nQ 39.0625 48.390625 32.421875 48.390625 \r\nQ 24.90625 48.390625 20.390625 44.140625 \r\nQ 15.875 39.890625 15.1875 32.171875 \r\nz\r\n\" id=\"DejaVuSans-101\"/>\r\n     </defs>\r\n     <g transform=\"translate(20.5625 14.798437)scale(0.1 -0.1)\">\r\n      <use xlink:href=\"#DejaVuSans-49\"/>\r\n      <use x=\"63.623047\" xlink:href=\"#DejaVuSans-101\"/>\r\n      <use x=\"125.146484\" xlink:href=\"#DejaVuSans-52\"/>\r\n      <use x=\"188.769531\" xlink:href=\"#DejaVuSans-49\"/>\r\n     </g>\r\n    </g>\r\n   </g>\r\n   <g id=\"line2d_13\">\r\n    <path clip-path=\"url(#p230a0ddad1)\" d=\"M 35.780682 225.354801 \r\nL 38.886433 225.354801 \r\nL 41.992185 225.354801 \r\nL 45.097936 225.354801 \r\nL 48.203687 225.354801 \r\nL 51.309439 225.354801 \r\nL 54.41519 225.354801 \r\nL 57.520942 225.354801 \r\nL 60.626693 225.354801 \r\nL 63.732444 225.354801 \r\nL 66.838196 225.354801 \r\nL 69.943947 225.354801 \r\nL 73.049699 225.354801 \r\nL 76.15545 225.354801 \r\nL 79.261201 225.354801 \r\nL 82.366953 225.354801 \r\nL 85.472704 225.354801 \r\nL 88.578455 225.354801 \r\nL 91.684207 225.354801 \r\nL 94.789958 225.354801 \r\nL 97.89571 225.354801 \r\nL 101.001461 225.354799 \r\nL 104.107212 225.354789 \r\nL 107.212964 225.354752 \r\nL 110.318715 225.354613 \r\nL 113.424467 225.35413 \r\nL 116.530218 225.35258 \r\nL 119.635969 225.347963 \r\nL 122.741721 225.335167 \r\nL 125.847472 225.302108 \r\nL 128.953224 225.222326 \r\nL 132.058975 225.04216 \r\nL 135.164726 224.660847 \r\nL 138.270478 223.903412 \r\nL 141.376229 222.489605 \r\nL 144.481981 220.007316 \r\nL 147.587732 215.904662 \r\nL 150.693483 209.518501 \r\nL 153.799235 200.15501 \r\nL 156.904986 187.227291 \r\nL 160.010737 170.436027 \r\nL 163.116489 149.956651 \r\nL 166.22224 126.579035 \r\nL 169.327992 101.743034 \r\nL 172.433743 77.431119 \r\nL 175.539494 55.915873 \r\nL 178.645246 39.404468 \r\nL 181.750997 29.658591 \r\nL 184.856749 27.682074 \r\nL 187.9625 33.553333 \r\nL 191.068251 46.440302 \r\nL 194.174003 64.785814 \r\nL 197.279754 86.608424 \r\nL 200.385506 109.84076 \r\nL 203.491257 132.629351 \r\nL 206.597008 153.542094 \r\nL 209.70276 171.661668 \r\nL 212.808511 186.573841 \r\nL 215.914263 198.280403 \r\nL 219.020014 207.074269 \r\nL 222.125765 213.410803 \r\nL 225.231517 217.799102 \r\nL 228.337268 220.724713 \r\nL 231.443019 222.604931 \r\nL 234.548771 223.771167 \r\nL 237.654522 224.470046 \r\nL 240.760274 224.875051 \r\nL 243.866025 225.102206 \r\nL 246.971776 225.225608 \r\nL 250.077528 225.290586 \r\nL 253.183279 225.32377 \r\nL 256.289031 225.340216 \r\nL 259.394782 225.348132 \r\nL 262.500533 225.351832 \r\nL 265.606285 225.353515 \r\nL 268.712036 225.354258 \r\nL 271.817788 225.354578 \r\nL 274.923539 225.354712 \r\nL 278.02929 225.354766 \r\nL 281.135042 225.354788 \r\nL 284.240793 225.354796 \r\nL 287.346545 225.354799 \r\nL 290.452296 225.3548 \r\nL 293.558047 225.354801 \r\nL 296.663799 225.354801 \r\nL 299.76955 225.354801 \r\nL 302.875301 225.354801 \r\nL 305.981053 225.354801 \r\nL 309.086804 225.354801 \r\nL 312.192556 225.354801 \r\nL 315.298307 225.354801 \r\nL 318.404058 225.354801 \r\nL 321.50981 225.354801 \r\nL 324.615561 225.354801 \r\nL 327.721313 225.354801 \r\nL 330.827064 225.354801 \r\nL 333.932815 225.354801 \r\nL 337.038567 225.354801 \r\nL 340.144318 225.354801 \r\n\" style=\"fill:none;stroke:#1f77b4;stroke-linecap:square;stroke-width:1.5;\"/>\r\n    <defs>\r\n     <path d=\"M 0 3 \r\nC 0.795609 3 1.55874 2.683901 2.12132 2.12132 \r\nC 2.683901 1.55874 3 0.795609 3 0 \r\nC 3 -0.795609 2.683901 -1.55874 2.12132 -2.12132 \r\nC 1.55874 -2.683901 0.795609 -3 0 -3 \r\nC -0.795609 -3 -1.55874 -2.683901 -2.12132 -2.12132 \r\nC -2.683901 -1.55874 -3 -0.795609 -3 0 \r\nC -3 0.795609 -2.683901 1.55874 -2.12132 2.12132 \r\nC -1.55874 2.683901 -0.795609 3 0 3 \r\nz\r\n\" id=\"mca0302d588\" style=\"stroke:#1f77b4;\"/>\r\n    </defs>\r\n    <g clip-path=\"url(#p230a0ddad1)\">\r\n     <use style=\"fill:#1f77b4;stroke:#1f77b4;\" x=\"35.780682\" xlink:href=\"#mca0302d588\" y=\"225.354801\"/>\r\n     <use style=\"fill:#1f77b4;stroke:#1f77b4;\" x=\"38.886433\" xlink:href=\"#mca0302d588\" y=\"225.354801\"/>\r\n     <use style=\"fill:#1f77b4;stroke:#1f77b4;\" x=\"41.992185\" xlink:href=\"#mca0302d588\" y=\"225.354801\"/>\r\n     <use style=\"fill:#1f77b4;stroke:#1f77b4;\" x=\"45.097936\" xlink:href=\"#mca0302d588\" y=\"225.354801\"/>\r\n     <use style=\"fill:#1f77b4;stroke:#1f77b4;\" x=\"48.203687\" xlink:href=\"#mca0302d588\" y=\"225.354801\"/>\r\n     <use style=\"fill:#1f77b4;stroke:#1f77b4;\" x=\"51.309439\" xlink:href=\"#mca0302d588\" y=\"225.354801\"/>\r\n     <use style=\"fill:#1f77b4;stroke:#1f77b4;\" x=\"54.41519\" xlink:href=\"#mca0302d588\" y=\"225.354801\"/>\r\n     <use style=\"fill:#1f77b4;stroke:#1f77b4;\" x=\"57.520942\" xlink:href=\"#mca0302d588\" y=\"225.354801\"/>\r\n     <use style=\"fill:#1f77b4;stroke:#1f77b4;\" x=\"60.626693\" xlink:href=\"#mca0302d588\" y=\"225.354801\"/>\r\n     <use style=\"fill:#1f77b4;stroke:#1f77b4;\" x=\"63.732444\" xlink:href=\"#mca0302d588\" y=\"225.354801\"/>\r\n     <use style=\"fill:#1f77b4;stroke:#1f77b4;\" x=\"66.838196\" xlink:href=\"#mca0302d588\" y=\"225.354801\"/>\r\n     <use style=\"fill:#1f77b4;stroke:#1f77b4;\" x=\"69.943947\" xlink:href=\"#mca0302d588\" y=\"225.354801\"/>\r\n     <use style=\"fill:#1f77b4;stroke:#1f77b4;\" x=\"73.049699\" xlink:href=\"#mca0302d588\" y=\"225.354801\"/>\r\n     <use style=\"fill:#1f77b4;stroke:#1f77b4;\" x=\"76.15545\" xlink:href=\"#mca0302d588\" y=\"225.354801\"/>\r\n     <use style=\"fill:#1f77b4;stroke:#1f77b4;\" x=\"79.261201\" xlink:href=\"#mca0302d588\" y=\"225.354801\"/>\r\n     <use style=\"fill:#1f77b4;stroke:#1f77b4;\" x=\"82.366953\" xlink:href=\"#mca0302d588\" y=\"225.354801\"/>\r\n     <use style=\"fill:#1f77b4;stroke:#1f77b4;\" x=\"85.472704\" xlink:href=\"#mca0302d588\" y=\"225.354801\"/>\r\n     <use style=\"fill:#1f77b4;stroke:#1f77b4;\" x=\"88.578455\" xlink:href=\"#mca0302d588\" y=\"225.354801\"/>\r\n     <use style=\"fill:#1f77b4;stroke:#1f77b4;\" x=\"91.684207\" xlink:href=\"#mca0302d588\" y=\"225.354801\"/>\r\n     <use style=\"fill:#1f77b4;stroke:#1f77b4;\" x=\"94.789958\" xlink:href=\"#mca0302d588\" y=\"225.354801\"/>\r\n     <use style=\"fill:#1f77b4;stroke:#1f77b4;\" x=\"97.89571\" xlink:href=\"#mca0302d588\" y=\"225.354801\"/>\r\n     <use style=\"fill:#1f77b4;stroke:#1f77b4;\" x=\"101.001461\" xlink:href=\"#mca0302d588\" y=\"225.354799\"/>\r\n     <use style=\"fill:#1f77b4;stroke:#1f77b4;\" x=\"104.107212\" xlink:href=\"#mca0302d588\" y=\"225.354789\"/>\r\n     <use style=\"fill:#1f77b4;stroke:#1f77b4;\" x=\"107.212964\" xlink:href=\"#mca0302d588\" y=\"225.354752\"/>\r\n     <use style=\"fill:#1f77b4;stroke:#1f77b4;\" x=\"110.318715\" xlink:href=\"#mca0302d588\" y=\"225.354613\"/>\r\n     <use style=\"fill:#1f77b4;stroke:#1f77b4;\" x=\"113.424467\" xlink:href=\"#mca0302d588\" y=\"225.35413\"/>\r\n     <use style=\"fill:#1f77b4;stroke:#1f77b4;\" x=\"116.530218\" xlink:href=\"#mca0302d588\" y=\"225.35258\"/>\r\n     <use style=\"fill:#1f77b4;stroke:#1f77b4;\" x=\"119.635969\" xlink:href=\"#mca0302d588\" y=\"225.347963\"/>\r\n     <use style=\"fill:#1f77b4;stroke:#1f77b4;\" x=\"122.741721\" xlink:href=\"#mca0302d588\" y=\"225.335167\"/>\r\n     <use style=\"fill:#1f77b4;stroke:#1f77b4;\" x=\"125.847472\" xlink:href=\"#mca0302d588\" y=\"225.302108\"/>\r\n     <use style=\"fill:#1f77b4;stroke:#1f77b4;\" x=\"128.953224\" xlink:href=\"#mca0302d588\" y=\"225.222326\"/>\r\n     <use style=\"fill:#1f77b4;stroke:#1f77b4;\" x=\"132.058975\" xlink:href=\"#mca0302d588\" y=\"225.04216\"/>\r\n     <use style=\"fill:#1f77b4;stroke:#1f77b4;\" x=\"135.164726\" xlink:href=\"#mca0302d588\" y=\"224.660847\"/>\r\n     <use style=\"fill:#1f77b4;stroke:#1f77b4;\" x=\"138.270478\" xlink:href=\"#mca0302d588\" y=\"223.903412\"/>\r\n     <use style=\"fill:#1f77b4;stroke:#1f77b4;\" x=\"141.376229\" xlink:href=\"#mca0302d588\" y=\"222.489605\"/>\r\n     <use style=\"fill:#1f77b4;stroke:#1f77b4;\" x=\"144.481981\" xlink:href=\"#mca0302d588\" y=\"220.007316\"/>\r\n     <use style=\"fill:#1f77b4;stroke:#1f77b4;\" x=\"147.587732\" xlink:href=\"#mca0302d588\" y=\"215.904662\"/>\r\n     <use style=\"fill:#1f77b4;stroke:#1f77b4;\" x=\"150.693483\" xlink:href=\"#mca0302d588\" y=\"209.518501\"/>\r\n     <use style=\"fill:#1f77b4;stroke:#1f77b4;\" x=\"153.799235\" xlink:href=\"#mca0302d588\" y=\"200.15501\"/>\r\n     <use style=\"fill:#1f77b4;stroke:#1f77b4;\" x=\"156.904986\" xlink:href=\"#mca0302d588\" y=\"187.227291\"/>\r\n     <use style=\"fill:#1f77b4;stroke:#1f77b4;\" x=\"160.010737\" xlink:href=\"#mca0302d588\" y=\"170.436027\"/>\r\n     <use style=\"fill:#1f77b4;stroke:#1f77b4;\" x=\"163.116489\" xlink:href=\"#mca0302d588\" y=\"149.956651\"/>\r\n     <use style=\"fill:#1f77b4;stroke:#1f77b4;\" x=\"166.22224\" xlink:href=\"#mca0302d588\" y=\"126.579035\"/>\r\n     <use style=\"fill:#1f77b4;stroke:#1f77b4;\" x=\"169.327992\" xlink:href=\"#mca0302d588\" y=\"101.743034\"/>\r\n     <use style=\"fill:#1f77b4;stroke:#1f77b4;\" x=\"172.433743\" xlink:href=\"#mca0302d588\" y=\"77.431119\"/>\r\n     <use style=\"fill:#1f77b4;stroke:#1f77b4;\" x=\"175.539494\" xlink:href=\"#mca0302d588\" y=\"55.915873\"/>\r\n     <use style=\"fill:#1f77b4;stroke:#1f77b4;\" x=\"178.645246\" xlink:href=\"#mca0302d588\" y=\"39.404468\"/>\r\n     <use style=\"fill:#1f77b4;stroke:#1f77b4;\" x=\"181.750997\" xlink:href=\"#mca0302d588\" y=\"29.658591\"/>\r\n     <use style=\"fill:#1f77b4;stroke:#1f77b4;\" x=\"184.856749\" xlink:href=\"#mca0302d588\" y=\"27.682074\"/>\r\n     <use style=\"fill:#1f77b4;stroke:#1f77b4;\" x=\"187.9625\" xlink:href=\"#mca0302d588\" y=\"33.553333\"/>\r\n     <use style=\"fill:#1f77b4;stroke:#1f77b4;\" x=\"191.068251\" xlink:href=\"#mca0302d588\" y=\"46.440302\"/>\r\n     <use style=\"fill:#1f77b4;stroke:#1f77b4;\" x=\"194.174003\" xlink:href=\"#mca0302d588\" y=\"64.785814\"/>\r\n     <use style=\"fill:#1f77b4;stroke:#1f77b4;\" x=\"197.279754\" xlink:href=\"#mca0302d588\" y=\"86.608424\"/>\r\n     <use style=\"fill:#1f77b4;stroke:#1f77b4;\" x=\"200.385506\" xlink:href=\"#mca0302d588\" y=\"109.84076\"/>\r\n     <use style=\"fill:#1f77b4;stroke:#1f77b4;\" x=\"203.491257\" xlink:href=\"#mca0302d588\" y=\"132.629351\"/>\r\n     <use style=\"fill:#1f77b4;stroke:#1f77b4;\" x=\"206.597008\" xlink:href=\"#mca0302d588\" y=\"153.542094\"/>\r\n     <use style=\"fill:#1f77b4;stroke:#1f77b4;\" x=\"209.70276\" xlink:href=\"#mca0302d588\" y=\"171.661668\"/>\r\n     <use style=\"fill:#1f77b4;stroke:#1f77b4;\" x=\"212.808511\" xlink:href=\"#mca0302d588\" y=\"186.573841\"/>\r\n     <use style=\"fill:#1f77b4;stroke:#1f77b4;\" x=\"215.914263\" xlink:href=\"#mca0302d588\" y=\"198.280403\"/>\r\n     <use style=\"fill:#1f77b4;stroke:#1f77b4;\" x=\"219.020014\" xlink:href=\"#mca0302d588\" y=\"207.074269\"/>\r\n     <use style=\"fill:#1f77b4;stroke:#1f77b4;\" x=\"222.125765\" xlink:href=\"#mca0302d588\" y=\"213.410803\"/>\r\n     <use style=\"fill:#1f77b4;stroke:#1f77b4;\" x=\"225.231517\" xlink:href=\"#mca0302d588\" y=\"217.799102\"/>\r\n     <use style=\"fill:#1f77b4;stroke:#1f77b4;\" x=\"228.337268\" xlink:href=\"#mca0302d588\" y=\"220.724713\"/>\r\n     <use style=\"fill:#1f77b4;stroke:#1f77b4;\" x=\"231.443019\" xlink:href=\"#mca0302d588\" y=\"222.604931\"/>\r\n     <use style=\"fill:#1f77b4;stroke:#1f77b4;\" x=\"234.548771\" xlink:href=\"#mca0302d588\" y=\"223.771167\"/>\r\n     <use style=\"fill:#1f77b4;stroke:#1f77b4;\" x=\"237.654522\" xlink:href=\"#mca0302d588\" y=\"224.470046\"/>\r\n     <use style=\"fill:#1f77b4;stroke:#1f77b4;\" x=\"240.760274\" xlink:href=\"#mca0302d588\" y=\"224.875051\"/>\r\n     <use style=\"fill:#1f77b4;stroke:#1f77b4;\" x=\"243.866025\" xlink:href=\"#mca0302d588\" y=\"225.102206\"/>\r\n     <use style=\"fill:#1f77b4;stroke:#1f77b4;\" x=\"246.971776\" xlink:href=\"#mca0302d588\" y=\"225.225608\"/>\r\n     <use style=\"fill:#1f77b4;stroke:#1f77b4;\" x=\"250.077528\" xlink:href=\"#mca0302d588\" y=\"225.290586\"/>\r\n     <use style=\"fill:#1f77b4;stroke:#1f77b4;\" x=\"253.183279\" xlink:href=\"#mca0302d588\" y=\"225.32377\"/>\r\n     <use style=\"fill:#1f77b4;stroke:#1f77b4;\" x=\"256.289031\" xlink:href=\"#mca0302d588\" y=\"225.340216\"/>\r\n     <use style=\"fill:#1f77b4;stroke:#1f77b4;\" x=\"259.394782\" xlink:href=\"#mca0302d588\" y=\"225.348132\"/>\r\n     <use style=\"fill:#1f77b4;stroke:#1f77b4;\" x=\"262.500533\" xlink:href=\"#mca0302d588\" y=\"225.351832\"/>\r\n     <use style=\"fill:#1f77b4;stroke:#1f77b4;\" x=\"265.606285\" xlink:href=\"#mca0302d588\" y=\"225.353515\"/>\r\n     <use style=\"fill:#1f77b4;stroke:#1f77b4;\" x=\"268.712036\" xlink:href=\"#mca0302d588\" y=\"225.354258\"/>\r\n     <use style=\"fill:#1f77b4;stroke:#1f77b4;\" x=\"271.817788\" xlink:href=\"#mca0302d588\" y=\"225.354578\"/>\r\n     <use style=\"fill:#1f77b4;stroke:#1f77b4;\" x=\"274.923539\" xlink:href=\"#mca0302d588\" y=\"225.354712\"/>\r\n     <use style=\"fill:#1f77b4;stroke:#1f77b4;\" x=\"278.02929\" xlink:href=\"#mca0302d588\" y=\"225.354766\"/>\r\n     <use style=\"fill:#1f77b4;stroke:#1f77b4;\" x=\"281.135042\" xlink:href=\"#mca0302d588\" y=\"225.354788\"/>\r\n     <use style=\"fill:#1f77b4;stroke:#1f77b4;\" x=\"284.240793\" xlink:href=\"#mca0302d588\" y=\"225.354796\"/>\r\n     <use style=\"fill:#1f77b4;stroke:#1f77b4;\" x=\"287.346545\" xlink:href=\"#mca0302d588\" y=\"225.354799\"/>\r\n     <use style=\"fill:#1f77b4;stroke:#1f77b4;\" x=\"290.452296\" xlink:href=\"#mca0302d588\" y=\"225.3548\"/>\r\n     <use style=\"fill:#1f77b4;stroke:#1f77b4;\" x=\"293.558047\" xlink:href=\"#mca0302d588\" y=\"225.354801\"/>\r\n     <use style=\"fill:#1f77b4;stroke:#1f77b4;\" x=\"296.663799\" xlink:href=\"#mca0302d588\" y=\"225.354801\"/>\r\n     <use style=\"fill:#1f77b4;stroke:#1f77b4;\" x=\"299.76955\" xlink:href=\"#mca0302d588\" y=\"225.354801\"/>\r\n     <use style=\"fill:#1f77b4;stroke:#1f77b4;\" x=\"302.875301\" xlink:href=\"#mca0302d588\" y=\"225.354801\"/>\r\n     <use style=\"fill:#1f77b4;stroke:#1f77b4;\" x=\"305.981053\" xlink:href=\"#mca0302d588\" y=\"225.354801\"/>\r\n     <use style=\"fill:#1f77b4;stroke:#1f77b4;\" x=\"309.086804\" xlink:href=\"#mca0302d588\" y=\"225.354801\"/>\r\n     <use style=\"fill:#1f77b4;stroke:#1f77b4;\" x=\"312.192556\" xlink:href=\"#mca0302d588\" y=\"225.354801\"/>\r\n     <use style=\"fill:#1f77b4;stroke:#1f77b4;\" x=\"315.298307\" xlink:href=\"#mca0302d588\" y=\"225.354801\"/>\r\n     <use style=\"fill:#1f77b4;stroke:#1f77b4;\" x=\"318.404058\" xlink:href=\"#mca0302d588\" y=\"225.354801\"/>\r\n     <use style=\"fill:#1f77b4;stroke:#1f77b4;\" x=\"321.50981\" xlink:href=\"#mca0302d588\" y=\"225.354801\"/>\r\n     <use style=\"fill:#1f77b4;stroke:#1f77b4;\" x=\"324.615561\" xlink:href=\"#mca0302d588\" y=\"225.354801\"/>\r\n     <use style=\"fill:#1f77b4;stroke:#1f77b4;\" x=\"327.721313\" xlink:href=\"#mca0302d588\" y=\"225.354801\"/>\r\n     <use style=\"fill:#1f77b4;stroke:#1f77b4;\" x=\"330.827064\" xlink:href=\"#mca0302d588\" y=\"225.354801\"/>\r\n     <use style=\"fill:#1f77b4;stroke:#1f77b4;\" x=\"333.932815\" xlink:href=\"#mca0302d588\" y=\"225.354801\"/>\r\n     <use style=\"fill:#1f77b4;stroke:#1f77b4;\" x=\"337.038567\" xlink:href=\"#mca0302d588\" y=\"225.354801\"/>\r\n     <use style=\"fill:#1f77b4;stroke:#1f77b4;\" x=\"340.144318\" xlink:href=\"#mca0302d588\" y=\"225.354801\"/>\r\n    </g>\r\n   </g>\r\n   <g id=\"patch_3\">\r\n    <path d=\"M 20.5625 235.238437 \r\nL 20.5625 17.798437 \r\n\" style=\"fill:none;stroke:#000000;stroke-linecap:square;stroke-linejoin:miter;stroke-width:0.8;\"/>\r\n   </g>\r\n   <g id=\"patch_4\">\r\n    <path d=\"M 355.3625 235.238437 \r\nL 355.3625 17.798437 \r\n\" style=\"fill:none;stroke:#000000;stroke-linecap:square;stroke-linejoin:miter;stroke-width:0.8;\"/>\r\n   </g>\r\n   <g id=\"patch_5\">\r\n    <path d=\"M 20.5625 235.238437 \r\nL 355.3625 235.238437 \r\n\" style=\"fill:none;stroke:#000000;stroke-linecap:square;stroke-linejoin:miter;stroke-width:0.8;\"/>\r\n   </g>\r\n   <g id=\"patch_6\">\r\n    <path d=\"M 20.5625 17.798437 \r\nL 355.3625 17.798437 \r\n\" style=\"fill:none;stroke:#000000;stroke-linecap:square;stroke-linejoin:miter;stroke-width:0.8;\"/>\r\n   </g>\r\n  </g>\r\n </g>\r\n <defs>\r\n  <clipPath id=\"p230a0ddad1\">\r\n   <rect height=\"217.44\" width=\"334.8\" x=\"20.5625\" y=\"17.798437\"/>\r\n  </clipPath>\r\n </defs>\r\n</svg>\r\n",
      "image/png": "[encoded data removed]"
     },
     "metadata": {
      "needs_background": "light"
     }
    }
   ],
   "metadata": {}
  },
  {
   "cell_type": "code",
   "execution_count": null,
   "source": [],
   "outputs": [],
   "metadata": {}
  }
 ],
 "metadata": {
  "interpreter": {
   "hash": "2db524e06e9f5f4ffedc911c917cb75e12dbc923643829bf417064a77eb14d37"
  },
  "kernelspec": {
   "name": "python3",
   "display_name": "Python 3.8.3 64-bit"
  },
  "language_info": {
   "codemirror_mode": {
    "name": "ipython",
    "version": 3
   },
   "file_extension": ".py",
   "mimetype": "text/x-python",
   "name": "python",
   "nbconvert_exporter": "python",
   "pygments_lexer": "ipython3",
   "version": "3.8.3"
  }
 },
 "nbformat": 4,
 "nbformat_minor": 2
}